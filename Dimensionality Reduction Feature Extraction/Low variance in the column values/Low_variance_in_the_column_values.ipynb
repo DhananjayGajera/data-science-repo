{
  "nbformat": 4,
  "nbformat_minor": 0,
  "metadata": {
    "colab": {
      "name": "Low variance in the column values.ipynb",
      "provenance": [],
      "collapsed_sections": []
    },
    "kernelspec": {
      "name": "python3",
      "display_name": "Python 3"
    },
    "language_info": {
      "name": "python"
    }
  },
  "cells": [
    {
      "cell_type": "markdown",
      "source": [
        "# 2. Low variance in the column values\n",
        "\n",
        "what is low variance filter?\n",
        "> low variance filter useful dimensionality reduction algorithm.\n",
        "\n",
        "How it's work.\n",
        "1. Basically, variance can only be calculated for numerical columns.\n",
        "2. Then calculates each column variance and removes those columns with a variance value below a given threshold."
      ],
      "metadata": {
        "id": "Cj_ZA03R9LwM"
      }
    },
    {
      "cell_type": "code",
      "execution_count": 65,
      "metadata": {
        "id": "GlZ297Z7FUYF"
      },
      "outputs": [],
      "source": [
        "#import libraries\n",
        "\n",
        "import numpy as np\n",
        "import pandas as pd\n",
        "import matplotlib.pyplot as plt\n"
      ]
    },
    {
      "cell_type": "code",
      "source": [
        "df=pd.read_csv('travel-times.csv')"
      ],
      "metadata": {
        "id": "3GOtvrr_F3B0"
      },
      "execution_count": 66,
      "outputs": []
    },
    {
      "cell_type": "code",
      "source": [
        "df['FuelEconomy']=df['FuelEconomy'].replace([df['FuelEconomy'][0],'-'],'7.81').replace('7.81',df['FuelEconomy'].mode()[0])\n",
        "df['FuelEconomy'].head(30)"
      ],
      "metadata": {
        "id": "xJZzV64Wlkjt"
      },
      "execution_count": null,
      "outputs": []
    },
    {
      "cell_type": "code",
      "source": [
        "counts = df['FuelEconomy'].value_counts()\n",
        "counts"
      ],
      "metadata": {
        "colab": {
          "base_uri": "https://localhost:8080/"
        },
        "id": "qFps8MZwncop",
        "outputId": "ef037feb-4ae2-478f-a416-c5643fcb5836"
      },
      "execution_count": 74,
      "outputs": [
        {
          "output_type": "execute_result",
          "data": {
            "text/plain": [
              "8.33     38\n",
              "8.54     20\n",
              "8.75     13\n",
              "9.16     11\n",
              "8.45     10\n",
              "8.37     10\n",
              "7.97     10\n",
              "7.89      9\n",
              "9.35      8\n",
              "8.32      8\n",
              "8.89      8\n",
              "9.53      8\n",
              "8.48      8\n",
              "9.08      8\n",
              "9.76      7\n",
              "8.31      6\n",
              "9.3       6\n",
              "8.97      6\n",
              "10.05     4\n",
              "8.93      4\n",
              "8.28      3\n",
              "Name: FuelEconomy, dtype: int64"
            ]
          },
          "metadata": {},
          "execution_count": 74
        }
      ]
    },
    {
      "cell_type": "code",
      "source": [
        "a = df.isnull().sum()/len(df)*100\n",
        "variables = df.columns"
      ],
      "metadata": {
        "id": "Q3R4vWR-lbuH"
      },
      "execution_count": 75,
      "outputs": []
    },
    {
      "cell_type": "code",
      "source": [
        "variable = [ ]\n",
        "\n",
        "for i in range(df.columns.shape[0]):\n",
        "    if a[i]<=35:\n",
        "        variable.append(variables[i])\n",
        "variable"
      ],
      "metadata": {
        "id": "8zlcYJ3elpNn"
      },
      "execution_count": null,
      "outputs": []
    },
    {
      "cell_type": "code",
      "source": [
        "data = df[variable]\n",
        "data.head(30)"
      ],
      "metadata": {
        "id": "DfgwLinlly0O"
      },
      "execution_count": null,
      "outputs": []
    },
    {
      "cell_type": "code",
      "source": [
        "#check datatype \n",
        "data.dtypes"
      ],
      "metadata": {
        "colab": {
          "base_uri": "https://localhost:8080/"
        },
        "id": "PfDkJJdqrbRI",
        "outputId": "07773607-c8e9-48c6-e087-7b627cba78b2"
      },
      "execution_count": 81,
      "outputs": [
        {
          "output_type": "execute_result",
          "data": {
            "text/plain": [
              "Date               object\n",
              "StartTime          object\n",
              "DayOfWeek          object\n",
              "GoingTo            object\n",
              "Distance          float64\n",
              "MaxSpeed          float64\n",
              "AvgSpeed          float64\n",
              "AvgMovingSpeed    float64\n",
              "FuelEconomy        object\n",
              "TotalTime         float64\n",
              "MovingTime        float64\n",
              "Take407All         object\n",
              "dtype: object"
            ]
          },
          "metadata": {},
          "execution_count": 81
        }
      ]
    },
    {
      "cell_type": "code",
      "source": [
        "#store only numerical value and rest of removed\n",
        "data = data.drop(['Date','StartTime','DayOfWeek','GoingTo','FuelEconomy','Take407All'], axis=1)\n",
        "data"
      ],
      "metadata": {
        "colab": {
          "base_uri": "https://localhost:8080/",
          "height": 423
        },
        "id": "wiUicaHB6Geo",
        "outputId": "0344c677-1f38-4402-c191-5a94e3d93fd5"
      },
      "execution_count": 82,
      "outputs": [
        {
          "output_type": "execute_result",
          "data": {
            "text/plain": [
              "     Distance  MaxSpeed  AvgSpeed  AvgMovingSpeed  TotalTime  MovingTime\n",
              "0       51.29     127.4      78.3            84.8       39.3        36.3\n",
              "1       51.63     130.3      81.8            88.9       37.9        34.9\n",
              "2       51.27     127.4      82.0            85.8       37.5        35.9\n",
              "3       49.17     132.3      74.2            82.9       39.8        35.6\n",
              "4       51.15     136.2      83.4            88.1       36.8        34.8\n",
              "..        ...       ...       ...             ...        ...         ...\n",
              "200     54.52     125.6      49.9            82.4       65.5        39.7\n",
              "201     50.90     123.7      76.2            95.1       40.1        32.1\n",
              "202     51.96     132.6      57.5            76.7       54.2        40.6\n",
              "203     53.28     125.8      61.6            87.6       51.9        36.5\n",
              "204     51.73     125.0      62.8            92.5       49.5        33.6\n",
              "\n",
              "[205 rows x 6 columns]"
            ],
            "text/html": [
              "\n",
              "  <div id=\"df-0f4650bc-8ef1-40cb-91cb-5b4c01f45b65\">\n",
              "    <div class=\"colab-df-container\">\n",
              "      <div>\n",
              "<style scoped>\n",
              "    .dataframe tbody tr th:only-of-type {\n",
              "        vertical-align: middle;\n",
              "    }\n",
              "\n",
              "    .dataframe tbody tr th {\n",
              "        vertical-align: top;\n",
              "    }\n",
              "\n",
              "    .dataframe thead th {\n",
              "        text-align: right;\n",
              "    }\n",
              "</style>\n",
              "<table border=\"1\" class=\"dataframe\">\n",
              "  <thead>\n",
              "    <tr style=\"text-align: right;\">\n",
              "      <th></th>\n",
              "      <th>Distance</th>\n",
              "      <th>MaxSpeed</th>\n",
              "      <th>AvgSpeed</th>\n",
              "      <th>AvgMovingSpeed</th>\n",
              "      <th>TotalTime</th>\n",
              "      <th>MovingTime</th>\n",
              "    </tr>\n",
              "  </thead>\n",
              "  <tbody>\n",
              "    <tr>\n",
              "      <th>0</th>\n",
              "      <td>51.29</td>\n",
              "      <td>127.4</td>\n",
              "      <td>78.3</td>\n",
              "      <td>84.8</td>\n",
              "      <td>39.3</td>\n",
              "      <td>36.3</td>\n",
              "    </tr>\n",
              "    <tr>\n",
              "      <th>1</th>\n",
              "      <td>51.63</td>\n",
              "      <td>130.3</td>\n",
              "      <td>81.8</td>\n",
              "      <td>88.9</td>\n",
              "      <td>37.9</td>\n",
              "      <td>34.9</td>\n",
              "    </tr>\n",
              "    <tr>\n",
              "      <th>2</th>\n",
              "      <td>51.27</td>\n",
              "      <td>127.4</td>\n",
              "      <td>82.0</td>\n",
              "      <td>85.8</td>\n",
              "      <td>37.5</td>\n",
              "      <td>35.9</td>\n",
              "    </tr>\n",
              "    <tr>\n",
              "      <th>3</th>\n",
              "      <td>49.17</td>\n",
              "      <td>132.3</td>\n",
              "      <td>74.2</td>\n",
              "      <td>82.9</td>\n",
              "      <td>39.8</td>\n",
              "      <td>35.6</td>\n",
              "    </tr>\n",
              "    <tr>\n",
              "      <th>4</th>\n",
              "      <td>51.15</td>\n",
              "      <td>136.2</td>\n",
              "      <td>83.4</td>\n",
              "      <td>88.1</td>\n",
              "      <td>36.8</td>\n",
              "      <td>34.8</td>\n",
              "    </tr>\n",
              "    <tr>\n",
              "      <th>...</th>\n",
              "      <td>...</td>\n",
              "      <td>...</td>\n",
              "      <td>...</td>\n",
              "      <td>...</td>\n",
              "      <td>...</td>\n",
              "      <td>...</td>\n",
              "    </tr>\n",
              "    <tr>\n",
              "      <th>200</th>\n",
              "      <td>54.52</td>\n",
              "      <td>125.6</td>\n",
              "      <td>49.9</td>\n",
              "      <td>82.4</td>\n",
              "      <td>65.5</td>\n",
              "      <td>39.7</td>\n",
              "    </tr>\n",
              "    <tr>\n",
              "      <th>201</th>\n",
              "      <td>50.90</td>\n",
              "      <td>123.7</td>\n",
              "      <td>76.2</td>\n",
              "      <td>95.1</td>\n",
              "      <td>40.1</td>\n",
              "      <td>32.1</td>\n",
              "    </tr>\n",
              "    <tr>\n",
              "      <th>202</th>\n",
              "      <td>51.96</td>\n",
              "      <td>132.6</td>\n",
              "      <td>57.5</td>\n",
              "      <td>76.7</td>\n",
              "      <td>54.2</td>\n",
              "      <td>40.6</td>\n",
              "    </tr>\n",
              "    <tr>\n",
              "      <th>203</th>\n",
              "      <td>53.28</td>\n",
              "      <td>125.8</td>\n",
              "      <td>61.6</td>\n",
              "      <td>87.6</td>\n",
              "      <td>51.9</td>\n",
              "      <td>36.5</td>\n",
              "    </tr>\n",
              "    <tr>\n",
              "      <th>204</th>\n",
              "      <td>51.73</td>\n",
              "      <td>125.0</td>\n",
              "      <td>62.8</td>\n",
              "      <td>92.5</td>\n",
              "      <td>49.5</td>\n",
              "      <td>33.6</td>\n",
              "    </tr>\n",
              "  </tbody>\n",
              "</table>\n",
              "<p>205 rows × 6 columns</p>\n",
              "</div>\n",
              "      <button class=\"colab-df-convert\" onclick=\"convertToInteractive('df-0f4650bc-8ef1-40cb-91cb-5b4c01f45b65')\"\n",
              "              title=\"Convert this dataframe to an interactive table.\"\n",
              "              style=\"display:none;\">\n",
              "        \n",
              "  <svg xmlns=\"http://www.w3.org/2000/svg\" height=\"24px\"viewBox=\"0 0 24 24\"\n",
              "       width=\"24px\">\n",
              "    <path d=\"M0 0h24v24H0V0z\" fill=\"none\"/>\n",
              "    <path d=\"M18.56 5.44l.94 2.06.94-2.06 2.06-.94-2.06-.94-.94-2.06-.94 2.06-2.06.94zm-11 1L8.5 8.5l.94-2.06 2.06-.94-2.06-.94L8.5 2.5l-.94 2.06-2.06.94zm10 10l.94 2.06.94-2.06 2.06-.94-2.06-.94-.94-2.06-.94 2.06-2.06.94z\"/><path d=\"M17.41 7.96l-1.37-1.37c-.4-.4-.92-.59-1.43-.59-.52 0-1.04.2-1.43.59L10.3 9.45l-7.72 7.72c-.78.78-.78 2.05 0 2.83L4 21.41c.39.39.9.59 1.41.59.51 0 1.02-.2 1.41-.59l7.78-7.78 2.81-2.81c.8-.78.8-2.07 0-2.86zM5.41 20L4 18.59l7.72-7.72 1.47 1.35L5.41 20z\"/>\n",
              "  </svg>\n",
              "      </button>\n",
              "      \n",
              "  <style>\n",
              "    .colab-df-container {\n",
              "      display:flex;\n",
              "      flex-wrap:wrap;\n",
              "      gap: 12px;\n",
              "    }\n",
              "\n",
              "    .colab-df-convert {\n",
              "      background-color: #E8F0FE;\n",
              "      border: none;\n",
              "      border-radius: 50%;\n",
              "      cursor: pointer;\n",
              "      display: none;\n",
              "      fill: #1967D2;\n",
              "      height: 32px;\n",
              "      padding: 0 0 0 0;\n",
              "      width: 32px;\n",
              "    }\n",
              "\n",
              "    .colab-df-convert:hover {\n",
              "      background-color: #E2EBFA;\n",
              "      box-shadow: 0px 1px 2px rgba(60, 64, 67, 0.3), 0px 1px 3px 1px rgba(60, 64, 67, 0.15);\n",
              "      fill: #174EA6;\n",
              "    }\n",
              "\n",
              "    [theme=dark] .colab-df-convert {\n",
              "      background-color: #3B4455;\n",
              "      fill: #D2E3FC;\n",
              "    }\n",
              "\n",
              "    [theme=dark] .colab-df-convert:hover {\n",
              "      background-color: #434B5C;\n",
              "      box-shadow: 0px 1px 3px 1px rgba(0, 0, 0, 0.15);\n",
              "      filter: drop-shadow(0px 1px 2px rgba(0, 0, 0, 0.3));\n",
              "      fill: #FFFFFF;\n",
              "    }\n",
              "  </style>\n",
              "\n",
              "      <script>\n",
              "        const buttonEl =\n",
              "          document.querySelector('#df-0f4650bc-8ef1-40cb-91cb-5b4c01f45b65 button.colab-df-convert');\n",
              "        buttonEl.style.display =\n",
              "          google.colab.kernel.accessAllowed ? 'block' : 'none';\n",
              "\n",
              "        async function convertToInteractive(key) {\n",
              "          const element = document.querySelector('#df-0f4650bc-8ef1-40cb-91cb-5b4c01f45b65');\n",
              "          const dataTable =\n",
              "            await google.colab.kernel.invokeFunction('convertToInteractive',\n",
              "                                                     [key], {});\n",
              "          if (!dataTable) return;\n",
              "\n",
              "          const docLinkHtml = 'Like what you see? Visit the ' +\n",
              "            '<a target=\"_blank\" href=https://colab.research.google.com/notebooks/data_table.ipynb>data table notebook</a>'\n",
              "            + ' to learn more about interactive tables.';\n",
              "          element.innerHTML = '';\n",
              "          dataTable['output_type'] = 'display_data';\n",
              "          await google.colab.output.renderOutput(dataTable, element);\n",
              "          const docLink = document.createElement('div');\n",
              "          docLink.innerHTML = docLinkHtml;\n",
              "          element.appendChild(docLink);\n",
              "        }\n",
              "      </script>\n",
              "    </div>\n",
              "  </div>\n",
              "  "
            ]
          },
          "metadata": {},
          "execution_count": 82
        }
      ]
    },
    {
      "cell_type": "code",
      "source": [
        "from sklearn.preprocessing import normalize\n",
        "normalize = normalize(data)\n",
        "data_scaled = pd.DataFrame(normalize)\n",
        "data_scaled.var()\n"
      ],
      "metadata": {
        "colab": {
          "base_uri": "https://localhost:8080/"
        },
        "id": "Kvd84Aaj5fE1",
        "outputId": "88171b9e-2219-4a72-c949-8c0a25ca4145"
      },
      "execution_count": 83,
      "outputs": [
        {
          "output_type": "execute_result",
          "data": {
            "text/plain": [
              "0    0.000151\n",
              "1    0.000555\n",
              "2    0.002147\n",
              "3    0.001470\n",
              "4    0.001894\n",
              "5    0.001060\n",
              "dtype: float64"
            ]
          },
          "metadata": {},
          "execution_count": 83
        }
      ]
    },
    {
      "cell_type": "code",
      "source": [
        "variance=data_scaled.var()\n",
        "columns=data.columns\n",
        "columns"
      ],
      "metadata": {
        "colab": {
          "base_uri": "https://localhost:8080/"
        },
        "id": "_DXnYeI47HvO",
        "outputId": "f9f773f6-ec19-4e6d-a5f8-f7a8304d6a60"
      },
      "execution_count": 84,
      "outputs": [
        {
          "output_type": "execute_result",
          "data": {
            "text/plain": [
              "Index(['Distance', 'MaxSpeed', 'AvgSpeed', 'AvgMovingSpeed', 'TotalTime',\n",
              "       'MovingTime'],\n",
              "      dtype='object')"
            ]
          },
          "metadata": {},
          "execution_count": 84
        }
      ]
    },
    {
      "cell_type": "code",
      "source": [
        "#store only those variable who have morethen 1% threshold value \n",
        "\n",
        "variable = [ ]\n",
        "\n",
        "for i in range(0,len(variance)):\n",
        "    if variance[i]>=0.001:\n",
        "        variable.append(columns[i])\n",
        "\n",
        "variable"
      ],
      "metadata": {
        "colab": {
          "base_uri": "https://localhost:8080/"
        },
        "id": "kLMSfcBB76DH",
        "outputId": "cbb8df3a-a8f4-4309-da11-215a2198ddc7"
      },
      "execution_count": 85,
      "outputs": [
        {
          "output_type": "execute_result",
          "data": {
            "text/plain": [
              "['AvgSpeed', 'AvgMovingSpeed', 'TotalTime', 'MovingTime']"
            ]
          },
          "metadata": {},
          "execution_count": 85
        }
      ]
    },
    {
      "cell_type": "code",
      "source": [
        "new_data = data[variable]\n",
        "new_data.head()"
      ],
      "metadata": {
        "colab": {
          "base_uri": "https://localhost:8080/",
          "height": 206
        },
        "id": "Yem9Fa2q8TNx",
        "outputId": "ba00b657-2bec-4f62-9a24-bb6b37c53fb5"
      },
      "execution_count": 86,
      "outputs": [
        {
          "output_type": "execute_result",
          "data": {
            "text/plain": [
              "   AvgSpeed  AvgMovingSpeed  TotalTime  MovingTime\n",
              "0      78.3            84.8       39.3        36.3\n",
              "1      81.8            88.9       37.9        34.9\n",
              "2      82.0            85.8       37.5        35.9\n",
              "3      74.2            82.9       39.8        35.6\n",
              "4      83.4            88.1       36.8        34.8"
            ],
            "text/html": [
              "\n",
              "  <div id=\"df-591df477-e9fa-4743-9a88-e0a62d490777\">\n",
              "    <div class=\"colab-df-container\">\n",
              "      <div>\n",
              "<style scoped>\n",
              "    .dataframe tbody tr th:only-of-type {\n",
              "        vertical-align: middle;\n",
              "    }\n",
              "\n",
              "    .dataframe tbody tr th {\n",
              "        vertical-align: top;\n",
              "    }\n",
              "\n",
              "    .dataframe thead th {\n",
              "        text-align: right;\n",
              "    }\n",
              "</style>\n",
              "<table border=\"1\" class=\"dataframe\">\n",
              "  <thead>\n",
              "    <tr style=\"text-align: right;\">\n",
              "      <th></th>\n",
              "      <th>AvgSpeed</th>\n",
              "      <th>AvgMovingSpeed</th>\n",
              "      <th>TotalTime</th>\n",
              "      <th>MovingTime</th>\n",
              "    </tr>\n",
              "  </thead>\n",
              "  <tbody>\n",
              "    <tr>\n",
              "      <th>0</th>\n",
              "      <td>78.3</td>\n",
              "      <td>84.8</td>\n",
              "      <td>39.3</td>\n",
              "      <td>36.3</td>\n",
              "    </tr>\n",
              "    <tr>\n",
              "      <th>1</th>\n",
              "      <td>81.8</td>\n",
              "      <td>88.9</td>\n",
              "      <td>37.9</td>\n",
              "      <td>34.9</td>\n",
              "    </tr>\n",
              "    <tr>\n",
              "      <th>2</th>\n",
              "      <td>82.0</td>\n",
              "      <td>85.8</td>\n",
              "      <td>37.5</td>\n",
              "      <td>35.9</td>\n",
              "    </tr>\n",
              "    <tr>\n",
              "      <th>3</th>\n",
              "      <td>74.2</td>\n",
              "      <td>82.9</td>\n",
              "      <td>39.8</td>\n",
              "      <td>35.6</td>\n",
              "    </tr>\n",
              "    <tr>\n",
              "      <th>4</th>\n",
              "      <td>83.4</td>\n",
              "      <td>88.1</td>\n",
              "      <td>36.8</td>\n",
              "      <td>34.8</td>\n",
              "    </tr>\n",
              "  </tbody>\n",
              "</table>\n",
              "</div>\n",
              "      <button class=\"colab-df-convert\" onclick=\"convertToInteractive('df-591df477-e9fa-4743-9a88-e0a62d490777')\"\n",
              "              title=\"Convert this dataframe to an interactive table.\"\n",
              "              style=\"display:none;\">\n",
              "        \n",
              "  <svg xmlns=\"http://www.w3.org/2000/svg\" height=\"24px\"viewBox=\"0 0 24 24\"\n",
              "       width=\"24px\">\n",
              "    <path d=\"M0 0h24v24H0V0z\" fill=\"none\"/>\n",
              "    <path d=\"M18.56 5.44l.94 2.06.94-2.06 2.06-.94-2.06-.94-.94-2.06-.94 2.06-2.06.94zm-11 1L8.5 8.5l.94-2.06 2.06-.94-2.06-.94L8.5 2.5l-.94 2.06-2.06.94zm10 10l.94 2.06.94-2.06 2.06-.94-2.06-.94-.94-2.06-.94 2.06-2.06.94z\"/><path d=\"M17.41 7.96l-1.37-1.37c-.4-.4-.92-.59-1.43-.59-.52 0-1.04.2-1.43.59L10.3 9.45l-7.72 7.72c-.78.78-.78 2.05 0 2.83L4 21.41c.39.39.9.59 1.41.59.51 0 1.02-.2 1.41-.59l7.78-7.78 2.81-2.81c.8-.78.8-2.07 0-2.86zM5.41 20L4 18.59l7.72-7.72 1.47 1.35L5.41 20z\"/>\n",
              "  </svg>\n",
              "      </button>\n",
              "      \n",
              "  <style>\n",
              "    .colab-df-container {\n",
              "      display:flex;\n",
              "      flex-wrap:wrap;\n",
              "      gap: 12px;\n",
              "    }\n",
              "\n",
              "    .colab-df-convert {\n",
              "      background-color: #E8F0FE;\n",
              "      border: none;\n",
              "      border-radius: 50%;\n",
              "      cursor: pointer;\n",
              "      display: none;\n",
              "      fill: #1967D2;\n",
              "      height: 32px;\n",
              "      padding: 0 0 0 0;\n",
              "      width: 32px;\n",
              "    }\n",
              "\n",
              "    .colab-df-convert:hover {\n",
              "      background-color: #E2EBFA;\n",
              "      box-shadow: 0px 1px 2px rgba(60, 64, 67, 0.3), 0px 1px 3px 1px rgba(60, 64, 67, 0.15);\n",
              "      fill: #174EA6;\n",
              "    }\n",
              "\n",
              "    [theme=dark] .colab-df-convert {\n",
              "      background-color: #3B4455;\n",
              "      fill: #D2E3FC;\n",
              "    }\n",
              "\n",
              "    [theme=dark] .colab-df-convert:hover {\n",
              "      background-color: #434B5C;\n",
              "      box-shadow: 0px 1px 3px 1px rgba(0, 0, 0, 0.15);\n",
              "      filter: drop-shadow(0px 1px 2px rgba(0, 0, 0, 0.3));\n",
              "      fill: #FFFFFF;\n",
              "    }\n",
              "  </style>\n",
              "\n",
              "      <script>\n",
              "        const buttonEl =\n",
              "          document.querySelector('#df-591df477-e9fa-4743-9a88-e0a62d490777 button.colab-df-convert');\n",
              "        buttonEl.style.display =\n",
              "          google.colab.kernel.accessAllowed ? 'block' : 'none';\n",
              "\n",
              "        async function convertToInteractive(key) {\n",
              "          const element = document.querySelector('#df-591df477-e9fa-4743-9a88-e0a62d490777');\n",
              "          const dataTable =\n",
              "            await google.colab.kernel.invokeFunction('convertToInteractive',\n",
              "                                                     [key], {});\n",
              "          if (!dataTable) return;\n",
              "\n",
              "          const docLinkHtml = 'Like what you see? Visit the ' +\n",
              "            '<a target=\"_blank\" href=https://colab.research.google.com/notebooks/data_table.ipynb>data table notebook</a>'\n",
              "            + ' to learn more about interactive tables.';\n",
              "          element.innerHTML = '';\n",
              "          dataTable['output_type'] = 'display_data';\n",
              "          await google.colab.output.renderOutput(dataTable, element);\n",
              "          const docLink = document.createElement('div');\n",
              "          docLink.innerHTML = docLinkHtml;\n",
              "          element.appendChild(docLink);\n",
              "        }\n",
              "      </script>\n",
              "    </div>\n",
              "  </div>\n",
              "  "
            ]
          },
          "metadata": {},
          "execution_count": 86
        }
      ]
    },
    {
      "cell_type": "code",
      "source": [
        "new_data.var()"
      ],
      "metadata": {
        "colab": {
          "base_uri": "https://localhost:8080/"
        },
        "id": "sMaMcFi78bUt",
        "outputId": "8a1b1ed4-1806-436e-e7c4-404f52c6534d"
      },
      "execution_count": 87,
      "outputs": [
        {
          "output_type": "execute_result",
          "data": {
            "text/plain": [
              "AvgSpeed          130.183906\n",
              "AvgMovingSpeed    102.243324\n",
              "TotalTime          46.915324\n",
              "MovingTime         23.377921\n",
              "dtype: float64"
            ]
          },
          "metadata": {},
          "execution_count": 87
        }
      ]
    },
    {
      "cell_type": "code",
      "source": [
        "print(data.shape)\n",
        "print(new_data.shape)"
      ],
      "metadata": {
        "colab": {
          "base_uri": "https://localhost:8080/"
        },
        "id": "Qj0WPG1-8jgf",
        "outputId": "f8e1d6d9-a8ee-4242-8936-73c3cc6c4bbc"
      },
      "execution_count": 88,
      "outputs": [
        {
          "output_type": "stream",
          "name": "stdout",
          "text": [
            "(205, 6)\n",
            "(205, 4)\n"
          ]
        }
      ]
    }
  ]
}